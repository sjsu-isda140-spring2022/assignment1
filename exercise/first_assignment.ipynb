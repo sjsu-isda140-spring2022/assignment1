{
  "nbformat": 4,
  "nbformat_minor": 0,
  "metadata": {
    "colab": {
      "name": "2_Basic_PyMongo_guide.ipynb",
      "provenance": [],
      "collapsed_sections": [
        "1KlQxWwK3td5",
        "_YlhIPRViedz",
        "Covx3sSf3bFe",
        "QuTTo7YQ484F",
        "axt30areDxa9",
        "oseJcRsuCr62",
        "BCZnyZurC0Zr",
        "4IVJGoRa6a6f",
        "hry7UXKDKWAc",
        "DoZyF60WH2eV",
        "GFR25e-0mrEp",
        "B8hrUEYfVcJq",
        "T6wSFkCNW3hx",
        "OiAkbDMeHann",
        "sVCQWvDFGAnt"
      ],
      "include_colab_link": true
    },
    "kernelspec": {
      "display_name": "Python 3",
      "language": "python",
      "name": "python3"
    }
  },
  "cells": [
    {
      "cell_type": "markdown",
      "metadata": {
        "id": "view-in-github",
        "colab_type": "text"
      },
      "source": [
        "<a href=\"https://colab.research.google.com/github/sjsu-isda140-spring2022/assignment1/blob/main/exercise/first_assignment.ipynb\" target=\"_parent\"><img src=\"https://colab.research.google.com/assets/colab-badge.svg\" alt=\"Open In Colab\"/></a>"
      ]
    },
    {
      "cell_type": "markdown",
      "metadata": {
        "id": "_eFayW9BKDBj"
      },
      "source": [
        ""
      ]
    },
    {
      "cell_type": "markdown",
      "metadata": {
        "id": "1KlQxWwK3td5"
      },
      "source": [
        "#1. System setup"
      ]
    },
    {
      "cell_type": "markdown",
      "metadata": {
        "id": "vM6ta952S2z2"
      },
      "source": [
        "\n",
        "\n",
        "```\n",
        "# This is formatted as code\n",
        "```\n",
        "\n",
        "##DO NOT EDIT THE CELL BELOW.\n",
        "##RUN THE CELL AS IS\n",
        "\n",
        "##1.1 Install PyMongo.\n",
        "##This is your database driver. "
      ]
    },
    {
      "cell_type": "code",
      "metadata": {
        "id": "fpS_a7o_FCVj"
      },
      "source": [
        "# Install PyMongo\n",
        "# DO NOT EDIT\n",
        "! python -m pip install pymongo==3.7.2 > /dev/null"
      ],
      "execution_count": null,
      "outputs": []
    },
    {
      "cell_type": "markdown",
      "metadata": {
        "id": "_YlhIPRViedz"
      },
      "source": [
        "\n",
        "\n",
        "```\n",
        "# This is formatted as code\n",
        "```\n",
        "\n",
        "##1.2 Import PyMongo and set database\n",
        "##TODO:\n",
        "## FILL IN THE VALUES FOR USER NAME, PASSWORD, SERVER NAME, SERVER PORT\n"
      ]
    },
    {
      "cell_type": "code",
      "metadata": {
        "id": "j5FAz5RM30_M"
      },
      "source": [
        "import datetime                           # Imports datetime library\n",
        "import pymongo                            # Imports PyMongo library\n",
        "from pymongo import MongoClient           # Imports MongoClient \n",
        "\n",
        "# # uri (uniform resource identifier) defines the connection parameters \n",
        "# # uri = 'mongodb:// USER : PASSWORD @ SERVER_NAME : PORT / DATABASENAME')\n",
        "# # uri = 'mongodb:// USER : PASSWORD @ SERVER_NAME : PORT / DATABASE_NAME, CLUSTER_1_NAME : PORT , CLUSTER_2_NAME : PORT')\n",
        "# # uri = 'localhost:27017'\n",
        "SERVER_NAME = #TODO: INSERT YOUR SERVER NAME\n",
        "SERVER_PORT = #TODO: INSERT YOUR SERVER PORT\n",
        "USER_NAME = #TODO: INSERT YOUR USER NAME FOR MONGODB\n",
        "PASSWORD = #TODO: INSERT YOUR PASSWORD FOR MONGODB\n",
        "NAME_OF_DATABASE = 'movies'\n"
      ],
      "execution_count": null,
      "outputs": []
    },
    {
      "cell_type": "markdown",
      "source": [
        ""
      ],
      "metadata": {
        "id": "0fl9DSOsht5o"
      }
    },
    {
      "cell_type": "code",
      "metadata": {
        "id": "KeTjQP0aKmAf"
      },
      "source": [
        ""
      ],
      "execution_count": null,
      "outputs": []
    },
    {
      "cell_type": "code",
      "metadata": {
        "id": "H3nSHG0oBCWR"
      },
      "source": [
        "# db = #TODO: Using the client object created above, set the movies as the active database to work on\n",
        "              \n",
        "# db_collections = #TODO: Find names of all the document collections which are in the movies database\n",
        "\n",
        "\n",
        "# if 'movie_info' in db_collections:\n",
        "#   print ('Deleting \"movie_info\" collection')\n",
        "#   #TODO: TYPE YOUR CODE HERE to DELETE existing collection with the name movie_info\n",
        "# else:\n",
        "#   print ('Not previous collection found')"
      ],
      "execution_count": null,
      "outputs": []
    },
    {
      "cell_type": "markdown",
      "source": [
        "Now we need to make sure if there was an existing collection with the name movie_info, it was indeed deleted. You can do this by printing existing database collections. "
      ],
      "metadata": {
        "id": "uqaitM2kNoO5"
      }
    },
    {
      "cell_type": "code",
      "metadata": {
        "id": "p3PiuGs8BdT9"
      },
      "source": [
        "#TODO: Using the active db variable assigned above this line, find names of all the document collections which are in this database.\n"
      ],
      "execution_count": null,
      "outputs": []
    },
    {
      "cell_type": "markdown",
      "metadata": {
        "id": "Covx3sSf3bFe"
      },
      "source": [
        "##1.3 Download database and import dataset into mongodb"
      ]
    },
    {
      "cell_type": "code",
      "metadata": {
        "id": "QixrK4duFCVu"
      },
      "source": [
        "# Downloading Movie dataset using wget\n",
        "!wget https://raw.githubusercontent.com/vega/vega/master/docs/data/movies.json  \n",
        "# TODO: Uploading data to Mongo Database\n",
        "!mongodb-linux-x86_64-debian71-3.0.15/bin/mongoimport --host SERVER_NAME \\\n",
        "                                                      --port SERVER_PORT \\\n",
        "                                                      --username= USER_NAME \\\n",
        "                                                      --password= PASSWORD \\\n",
        "                                                      --db NAME_OF_DATABASE \\\n",
        "                                                      --collection NAME_OF_COLLECTION \\\n",
        "# Reference https://www.kenwalger.com/blog/nosql/mongodb/importing-data-mongoimport/"
      ],
      "execution_count": null,
      "outputs": []
    },
    {
      "cell_type": "code",
      "source": [
        "uri = 'mongodb://{}:{}@{}{}/{}'.format(USER_NAME,PASSWORD,SERVER_NAME,SERVER_PORT,NAME_OF_DATABASE)\n",
        "# start client to connect to MongoDB server \n",
        "client = MongoClient( uri )"
      ],
      "metadata": {
        "id": "5mpCklIkj2bf"
      },
      "execution_count": null,
      "outputs": []
    },
    {
      "cell_type": "markdown",
      "source": [
        "##1.4 List databases and collections"
      ],
      "metadata": {
        "id": "7oiXDPKfdu3r"
      }
    },
    {
      "cell_type": "code",
      "source": [
        "#TODO\n",
        "db = #TODO: Print names of databases on the server\n",
        "collection = #TODO: Print names of collections in the database"
      ],
      "metadata": {
        "id": "pPDbY-d3d3Pm"
      },
      "execution_count": null,
      "outputs": []
    },
    {
      "cell_type": "markdown",
      "metadata": {
        "id": "QuTTo7YQ484F"
      },
      "source": [
        "#2. Database overview"
      ]
    },
    {
      "cell_type": "code",
      "metadata": {
        "id": "-Cq37UFR4hoL"
      },
      "source": [
        "db =                            # TODO: Set the database to work on\n",
        "                                # TODO: List the collections available"
      ],
      "execution_count": null,
      "outputs": []
    },
    {
      "cell_type": "code",
      "metadata": {
        "id": "-eK1yM9q5IN-"
      },
      "source": [
        "collection =               # TODO: Set the collection to work on"
      ],
      "execution_count": null,
      "outputs": []
    },
    {
      "cell_type": "markdown",
      "metadata": {
        "id": "axt30areDxa9"
      },
      "source": [
        "##2.1 Dataset size and attributes"
      ]
    },
    {
      "cell_type": "code",
      "metadata": {
        "id": "XVsCkV6N5Yxj"
      },
      "source": [
        "## Dataset content summary\n",
        "num_documents = # TODO: Count the number of documents in the Dataset\n",
        "attributes = # TODO: Find the attributes contained in the first document.\n",
        "print ('Number of documents : %d' % num_documents)\n",
        "print ('Attributes names : %s' % attributes)"
      ],
      "execution_count": null,
      "outputs": []
    },
    {
      "cell_type": "code",
      "metadata": {
        "id": "GZb0p9fA9KbY"
      },
      "source": [
        "## Dataset content summary\n",
        "def content_attribute( attribute_name ):\n",
        "  #TODO: Find unique values for the attribute with value captured by variable attribute_name and return it from the function\n",
        "\n",
        "for attribute_name in attributes:\n",
        "    content =  content_attribute( attribute_name )\n",
        "    sample = content\n",
        "    if len(content) > 20:\n",
        "      sample = content[:20]\n",
        "    print ('Item name : ' + attribute_name + \n",
        "           '\\n   Unique content : ' + str(len(content)) +\n",
        "           '\\n   Content : ' + str(sample) )"
      ],
      "execution_count": null,
      "outputs": []
    },
    {
      "cell_type": "code",
      "metadata": {
        "id": "pCmpA_Cd69cF"
      },
      "source": [
        "#TODO: Print contents of a single document (Can be any document)\n"
      ],
      "execution_count": null,
      "outputs": []
    },
    {
      "cell_type": "markdown",
      "metadata": {
        "id": "FVB8FcgQz8ok"
      },
      "source": [
        "#3. Create Read Update Delete - Part 2"
      ]
    },
    {
      "cell_type": "markdown",
      "metadata": {
        "id": "oseJcRsuCr62"
      },
      "source": [
        "##3.1 Adding and delete attributes"
      ]
    },
    {
      "cell_type": "markdown",
      "metadata": {
        "id": "HNcAfkv4z4ws"
      },
      "source": [
        "### Add new atribute to your collection"
      ]
    },
    {
      "cell_type": "code",
      "metadata": {
        "id": "2g1SpJ-BzzHJ"
      },
      "source": [
        "#TODO: In the movie_info collection, add a new attribute is_hit_movie as true (Boolean) IF IMDB Rating is greater than 8\n"
      ],
      "execution_count": null,
      "outputs": []
    },
    {
      "cell_type": "code",
      "metadata": {
        "id": "ONVxD_i4XX5n"
      },
      "source": [
        "#TODO: List 5 documents where is_hit_movie is true\n"
      ],
      "execution_count": null,
      "outputs": []
    },
    {
      "cell_type": "markdown",
      "metadata": {
        "id": "MrqAqs8Izbb1"
      },
      "source": [
        "### Delete attribute and data"
      ]
    },
    {
      "cell_type": "code",
      "metadata": {
        "id": "Nsleuwf9HGXt"
      },
      "source": [
        "#TODO: Print attributes for document where Title is \"The Godfather: Part II\""
      ],
      "execution_count": null,
      "outputs": []
    },
    {
      "cell_type": "code",
      "source": [
        "#TODO: Delete attribute Distributor from the collection"
      ],
      "metadata": {
        "id": "7d2iZBxyUAE1"
      },
      "execution_count": null,
      "outputs": []
    },
    {
      "cell_type": "code",
      "metadata": {
        "id": "YHGXezyMFA9d"
      },
      "source": [
        "#TODO: Print attributes for document where Title is \"The Godfather: Part II\". Validate that the Distributor attribute is not displayed"
      ],
      "execution_count": null,
      "outputs": []
    },
    {
      "cell_type": "markdown",
      "metadata": {
        "id": "BCZnyZurC0Zr"
      },
      "source": [
        "##3.2 Working with unique values for attributes"
      ]
    },
    {
      "cell_type": "markdown",
      "metadata": {
        "id": "qKdVg4eQfhyM"
      },
      "source": [
        "###3.2.1 Attribute unique content"
      ]
    },
    {
      "cell_type": "code",
      "metadata": {
        "id": "ZDmmYJlffWtm"
      },
      "source": [
        "query = #TODO: Unique values for attribute Rotten Tomatoes Rating\n",
        "#TODO: Print Unique values for \"Rotten Tomatoes Rating\"\n",
        "\n",
        "query = #TODO: Unique values for attribute Major Genre\n",
        "#TODO: Print Unique values for Major Genre"
      ],
      "execution_count": null,
      "outputs": []
    },
    {
      "cell_type": "markdown",
      "metadata": {
        "id": "kjKHdKVaDkzO"
      },
      "source": [
        "###3.2.2 Filter by fields"
      ]
    },
    {
      "cell_type": "code",
      "metadata": {
        "id": "2B95WfRVDnxs"
      },
      "source": [
        "# collection.find(  FILTER_CONDITION   ,  FIELDS_to_retreive )\n",
        "# FIELDS      1 field:      string\n",
        "#             more than 1 : a list [] \n",
        "\n",
        "#\n",
        "filters =  #TODO: Filter collection to keep documents where Running Time min IS NOT null \n",
        "fields =  #TODO: Create a list containing Title,Major Genre, Creative Type and Director\n",
        "\n",
        "\n",
        "list(collection.find( filters , fields ).limit(1)) #This will print Title,Major Genre, Creative Type and Director of movies where runtime is not null"
      ],
      "execution_count": null,
      "outputs": []
    },
    {
      "cell_type": "code",
      "metadata": {
        "id": "QCOAMgEj-S3J"
      },
      "source": [
        "#TODO: Count the number of documents where movie run time is not null"
      ],
      "execution_count": null,
      "outputs": []
    },
    {
      "cell_type": "markdown",
      "metadata": {
        "id": "IjBzl57eE8I4"
      },
      "source": [
        "###3.2.6 Sort query Ascending"
      ]
    },
    {
      "cell_type": "markdown",
      "metadata": {
        "id": "nFOnWkY8VhNJ"
      },
      "source": [
        "#4. Query operators"
      ]
    },
    {
      "cell_type": "markdown",
      "metadata": {
        "id": "hry7UXKDKWAc"
      },
      "source": [
        "##4.2 Maximum and Minimum"
      ]
    },
    {
      "cell_type": "code",
      "metadata": {
        "id": "1ERuxgGrgWkL"
      },
      "source": [
        "#TODO:Using MongoDB operations (NOT PYTHON) find movie with the longest runtime using attribute \"Running Time min\"\n",
        "#Hint: You will need to use sort function, pymongo.DESCENDING and use limit to restrict to the top result \n"
      ],
      "execution_count": null,
      "outputs": []
    },
    {
      "cell_type": "code",
      "metadata": {
        "id": "82EmOgoafF8l"
      },
      "source": [
        "#TODO:Using MongoDB operations (NOT PYTHON) find movie with the shortest runtime using attribute \"Running Time min\"\n"
      ],
      "execution_count": null,
      "outputs": []
    },
    {
      "cell_type": "markdown",
      "metadata": {
        "id": "DoZyF60WH2eV"
      },
      "source": [
        "##4.3 Inclusion, exclusion operators  IN and  NIN"
      ]
    },
    {
      "cell_type": "code",
      "metadata": {
        "id": "5eooh_CVFsob"
      },
      "source": [
        "#TODO: Using the $in operator find print the count of movies directed by Steven Spielberg or Stanley Kubrick\n"
      ],
      "execution_count": null,
      "outputs": []
    },
    {
      "cell_type": "markdown",
      "metadata": {
        "id": "uq66cGpU60EK"
      },
      "source": [
        "###4.4.1 Relational operators with numbers :  \"greater than\",  \"equal\", \"little than\""
      ]
    },
    {
      "cell_type": "code",
      "metadata": {
        "id": "-5PaqRjJ6ZjM"
      },
      "source": [
        "#TODO: Count movies where runtime is greater than 120 minutes\n"
      ],
      "execution_count": null,
      "outputs": []
    },
    {
      "cell_type": "code",
      "metadata": {
        "id": "kjqjDOAf6vhA"
      },
      "source": [
        "#TODO: Count movies where runtime is less than 120 minutes\n"
      ],
      "execution_count": null,
      "outputs": []
    },
    {
      "cell_type": "code",
      "metadata": {
        "id": "JoIWXeht7EJT"
      },
      "source": [
        "#TODO: Count movies where runtime is equal to 120 minutes\n"
      ],
      "execution_count": null,
      "outputs": []
    },
    {
      "cell_type": "markdown",
      "metadata": {
        "id": "0DJ4BCpy8F-V"
      },
      "source": [
        "###4.4.2 Relational operators with letters :  \"greater than or equal\"  or  \"little than or equal\"\n",
        "\n",
        "Be careful, capital letters come before than lowercase letters in MongoDB"
      ]
    },
    {
      "cell_type": "code",
      "metadata": {
        "id": "vU6P6cNq8LEr"
      },
      "source": [
        "#TODO: Count movies where Director name starts with a letter between P and Z (P and Z are included). So names which start with P, Q, R, S, T.... \n",
        "\n",
        "collection.count_documents({\"name\": {\"$lt\" : \"B\" }})   # Names which start with A"
      ],
      "execution_count": null,
      "outputs": []
    }
  ]
}