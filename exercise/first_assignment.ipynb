{
  "nbformat": 4,
  "nbformat_minor": 0,
  "metadata": {
    "colab": {
      "name": "First_Assignment.ipynb",
      "provenance": [],
      "collapsed_sections": [
        "1KlQxWwK3td5",
        "_YlhIPRViedz",
        "Covx3sSf3bFe",
        "QuTTo7YQ484F",
        "axt30areDxa9",
        "oseJcRsuCr62",
        "BCZnyZurC0Zr",
        "4IVJGoRa6a6f",
        "hry7UXKDKWAc",
        "DoZyF60WH2eV",
        "GFR25e-0mrEp",
        "B8hrUEYfVcJq",
        "T6wSFkCNW3hx",
        "OiAkbDMeHann",
        "sVCQWvDFGAnt"
      ],
      "include_colab_link": true
    },
    "kernelspec": {
      "display_name": "Python 3",
      "language": "python",
      "name": "python3"
    }
  },
  "cells": [
    {
      "cell_type": "markdown",
      "metadata": {
        "id": "view-in-github",
        "colab_type": "text"
      },
      "source": [
        "<a href=\"https://colab.research.google.com/github/sjsu-isda140-spring2022/assignment1/blob/main/exercise/first_assignment.ipynb\" target=\"_parent\"><img src=\"https://colab.research.google.com/assets/colab-badge.svg\" alt=\"Open In Colab\"/></a>"
      ]
    },
    {
      "cell_type": "markdown",
      "metadata": {
        "id": "_eFayW9BKDBj"
      },
      "source": [
        ""
      ]
    },
    {
      "cell_type": "markdown",
      "metadata": {
        "id": "1KlQxWwK3td5"
      },
      "source": [
        "#1. System setup"
      ]
    },
    {
      "cell_type": "markdown",
      "metadata": {
        "id": "vM6ta952S2z2"
      },
      "source": [
        "\n",
        "\n",
        "```\n",
        "# This is formatted as code\n",
        "```\n",
        "\n",
        "##DO NOT EDIT THE CELL BELOW.\n",
        "##RUN THE CELL AS IS\n",
        "\n",
        "##1.1 Install PyMongo.\n",
        "##This is your database driver. "
      ]
    },
    {
      "cell_type": "code",
      "metadata": {
        "id": "fpS_a7o_FCVj"
      },
      "source": [
        "# Install PyMongo\n",
        "# DO NOT EDIT\n",
        "! python -m pip install pymongo==3.7.2 > /dev/null"
      ],
      "execution_count": null,
      "outputs": []
    },
    {
      "cell_type": "markdown",
      "metadata": {
        "id": "_YlhIPRViedz"
      },
      "source": [
        "\n",
        "\n",
        "```\n",
        "# This is formatted as code\n",
        "```\n",
        "\n",
        "##1.2 Import PyMongo and set database"
      ]
    },
    {
      "cell_type": "code",
      "metadata": {
        "id": "j5FAz5RM30_M"
      },
      "source": [
        "import datetime                           # Imports datetime library\n",
        "import pymongo                            # Imports PyMongo library\n",
        "from pymongo import MongoClient           # Imports MongoClient \n",
        "\n"
      ],
      "execution_count": null,
      "outputs": []
    },
    {
      "cell_type": "code",
      "source": [
        "SERVER_NAME = #TODO: INSERT YOUR SERVER NAME (1 pt)\n"
      ],
      "metadata": {
        "id": "rIywaOQely84"
      },
      "execution_count": null,
      "outputs": []
    },
    {
      "cell_type": "code",
      "source": [
        "SERVER_PORT = #TODO: INSERT YOUR SERVER PORT (1 pt)\n"
      ],
      "metadata": {
        "id": "cBELRmA-lzdT"
      },
      "execution_count": null,
      "outputs": []
    },
    {
      "cell_type": "code",
      "source": [
        "USER_NAME = #TODO: INSERT YOUR USER NAME FOR MONGODB (1 pt)\n"
      ],
      "metadata": {
        "id": "tARY9CmNl00Y"
      },
      "execution_count": null,
      "outputs": []
    },
    {
      "cell_type": "code",
      "source": [
        "PASSWORD = #TODO: INSERT YOUR PASSWORD FOR MONGODB (1 pt)\n"
      ],
      "metadata": {
        "id": "MUDrUC2Fl1YQ"
      },
      "execution_count": null,
      "outputs": []
    },
    {
      "cell_type": "code",
      "source": [
        "NAME_OF_DATABASE = 'movies' \n"
      ],
      "metadata": {
        "id": "GfjgWCowl10F"
      },
      "execution_count": null,
      "outputs": []
    },
    {
      "cell_type": "markdown",
      "metadata": {
        "id": "Covx3sSf3bFe"
      },
      "source": [
        "##1.3 DON'T EDIT THE CELL BELOW\n",
        "## It is setup to download database and import dataset into mongodb server using the server uri and credentials "
      ]
    },
    {
      "cell_type": "code",
      "metadata": {
        "id": "QixrK4duFCVu"
      },
      "source": [
        "# Downloading Movie dataset using wget\n",
        "!wget https://raw.githubusercontent.com/vega/vega/master/docs/data/movies.json  \n",
        "# Uploading data to Mongo Database\n",
        "!mongodb-linux-x86_64-debian71-3.0.15/bin/mongoimport --host SERVER_NAME \\\n",
        "                                                      --port SERVER_PORT \\\n",
        "                                                      --username= USER_NAME \\\n",
        "                                                      --password= PASSWORD \\\n",
        "                                                      --db NAME_OF_DATABASE \\\n",
        "                                                      --collection NAME_OF_COLLECTION \\\n",
        "# Reference https://www.kenwalger.com/blog/nosql/mongodb/importing-data-mongoimport/"
      ],
      "execution_count": null,
      "outputs": []
    },
    {
      "cell_type": "code",
      "source": [
        "uri = 'mongodb://{}:{}@{}{}/{}'.format(USER_NAME,PASSWORD,SERVER_NAME,SERVER_PORT,NAME_OF_DATABASE)\n",
        "# start client to connect to MongoDB server  (Successful connection: 1 point)\n",
        "client = MongoClient( uri ) "
      ],
      "metadata": {
        "id": "5mpCklIkj2bf"
      },
      "execution_count": null,
      "outputs": []
    },
    {
      "cell_type": "markdown",
      "source": [
        "##1.4 List databases and collections"
      ],
      "metadata": {
        "id": "7oiXDPKfdu3r"
      }
    },
    {
      "cell_type": "code",
      "source": [
        "#TODO\n",
        "db = #TODO: Print names of databases on the server (1 pt)\n",
        "collection = #TODO: Print names of collections in the database (1 pt)"
      ],
      "metadata": {
        "id": "pPDbY-d3d3Pm"
      },
      "execution_count": null,
      "outputs": []
    },
    {
      "cell_type": "markdown",
      "metadata": {
        "id": "QuTTo7YQ484F"
      },
      "source": [
        "#2. Database overview"
      ]
    },
    {
      "cell_type": "markdown",
      "source": [
        "##2.1 Setting database and collections"
      ],
      "metadata": {
        "id": "GkgrwN8Ao9TT"
      }
    },
    {
      "cell_type": "code",
      "metadata": {
        "id": "-Cq37UFR4hoL"
      },
      "source": [
        "db =                            # TODO: Set the database to work on as movies (1 pt)\n",
        "print()                         # TODO: List the collections available (1 pt)"
      ],
      "execution_count": null,
      "outputs": []
    },
    {
      "cell_type": "code",
      "metadata": {
        "id": "-eK1yM9q5IN-"
      },
      "source": [
        "collection =               # TODO: Set the collection to work on as movie_info (1 pt)"
      ],
      "execution_count": null,
      "outputs": []
    },
    {
      "cell_type": "markdown",
      "metadata": {
        "id": "axt30areDxa9"
      },
      "source": [
        "##2.2 Dataset size and attributes"
      ]
    },
    {
      "cell_type": "code",
      "metadata": {
        "id": "XVsCkV6N5Yxj"
      },
      "source": [
        "## Dataset content summary\n",
        "num_documents = # TODO: Count the number of documents in the Dataset (2 pt)\n",
        "attributes = # TODO: Find the attributes contained in the first document. (2 pt)\n",
        "print ('Number of documents : %d' % num_documents)\n",
        "print ('Attributes names : %s' % attributes)"
      ],
      "execution_count": null,
      "outputs": []
    },
    {
      "cell_type": "code",
      "metadata": {
        "id": "GZb0p9fA9KbY"
      },
      "source": [
        "## Dataset content summary\n",
        "def content_attribute( attribute_name ):\n",
        "  #TODO: Find unique values for the attribute with value captured by variable attribute_name and return it from the function (2 pt)\n",
        "\n",
        "for attribute_name in attributes:\n",
        "    content =  content_attribute( attribute_name )\n",
        "    sample = content\n",
        "    if len(content) > 20:\n",
        "      sample = content[:20]\n",
        "    print ('Item name : ' + attribute_name + \n",
        "           '\\n   Unique content : ' + str(len(content)) +\n",
        "           '\\n   Content : ' + str(sample) )"
      ],
      "execution_count": null,
      "outputs": []
    },
    {
      "cell_type": "code",
      "metadata": {
        "id": "pCmpA_Cd69cF"
      },
      "source": [
        "#TODO: Print contents of a single document (Can be any document) (1 pt)\n"
      ],
      "execution_count": null,
      "outputs": []
    },
    {
      "cell_type": "markdown",
      "metadata": {
        "id": "FVB8FcgQz8ok"
      },
      "source": [
        "#3. Create Read Delete and Unique Attributes"
      ]
    },
    {
      "cell_type": "markdown",
      "metadata": {
        "id": "oseJcRsuCr62"
      },
      "source": [
        "##3.1 Adding and delete attributes"
      ]
    },
    {
      "cell_type": "markdown",
      "metadata": {
        "id": "HNcAfkv4z4ws"
      },
      "source": [
        "### 3.1.1 Add new atribute to your collection"
      ]
    },
    {
      "cell_type": "code",
      "metadata": {
        "id": "2g1SpJ-BzzHJ"
      },
      "source": [
        "#TODO: In the movie_info collection, add a new attribute is_hit_movie as true (Boolean) IF IMDB Rating is greater than 8 (3 pt)\n"
      ],
      "execution_count": null,
      "outputs": []
    },
    {
      "cell_type": "code",
      "metadata": {
        "id": "ONVxD_i4XX5n"
      },
      "source": [
        "#TODO: List 5 documents where is_hit_movie is true (2 pt)\n"
      ],
      "execution_count": null,
      "outputs": []
    },
    {
      "cell_type": "markdown",
      "metadata": {
        "id": "MrqAqs8Izbb1"
      },
      "source": [
        "### 3.1.2 Delete attribute and data"
      ]
    },
    {
      "cell_type": "code",
      "metadata": {
        "id": "Nsleuwf9HGXt"
      },
      "source": [
        "#TODO: Print attributes for document where Title is \"The Godfather: Part II\" (2 pt)"
      ],
      "execution_count": null,
      "outputs": []
    },
    {
      "cell_type": "code",
      "source": [
        "#TODO: Delete attribute Distributor from the collection (3 pt)"
      ],
      "metadata": {
        "id": "7d2iZBxyUAE1"
      },
      "execution_count": null,
      "outputs": []
    },
    {
      "cell_type": "code",
      "metadata": {
        "id": "YHGXezyMFA9d"
      },
      "source": [
        "#TODO: Print attributes for document where Title is \"The Godfather: Part II\". Validate that the Distributor attribute is not displayed (1 pt)"
      ],
      "execution_count": null,
      "outputs": []
    },
    {
      "cell_type": "markdown",
      "metadata": {
        "id": "BCZnyZurC0Zr"
      },
      "source": [
        "##3.2 Working with unique values for attributes"
      ]
    },
    {
      "cell_type": "markdown",
      "metadata": {
        "id": "qKdVg4eQfhyM"
      },
      "source": [
        "###3.2.1 Attribute unique content"
      ]
    },
    {
      "cell_type": "code",
      "metadata": {
        "id": "ZDmmYJlffWtm"
      },
      "source": [
        "query = collection.distinct( \"Rotten Tomatoes Rating\" ) # Set query to capture Unique values for attribute Rotten Tomatoes Rating\n",
        "print (\"Rotten Tomatoes Ratings :\" + str( sorted( query ) )) #Print Unique values for \"Rotten Tomatoes Rating\"\n",
        "\n",
        "\n",
        "query = #TODO: Unique values for attribute Major Genre (1 point)\n",
        "#TODO: Print Unique values for Major Genre (1 point)"
      ],
      "execution_count": null,
      "outputs": []
    },
    {
      "cell_type": "markdown",
      "metadata": {
        "id": "kjKHdKVaDkzO"
      },
      "source": [
        "###3.2.2 Filter by fields"
      ]
    },
    {
      "cell_type": "code",
      "metadata": {
        "id": "2B95WfRVDnxs"
      },
      "source": [
        "# collection.find(  FILTER_CONDITION   ,  FIELDS_to_retreive )\n",
        "# FIELDS      1 field:      string\n",
        "#             more than 1 : a list [] \n",
        "\n",
        "#\n",
        "filters =  #TODO: Filter collection to keep documents where Running Time min IS NOT null (3 point)\n",
        "fields =  #TODO: Create a list containing Title,Major Genre, Creative Type and Director (2 point)\n",
        "\n",
        "\n",
        "list(collection.find( filters , fields ).limit(1)) #This will print Title,Major Genre, Creative Type and Director of movies where runtime is not null"
      ],
      "execution_count": null,
      "outputs": []
    },
    {
      "cell_type": "code",
      "metadata": {
        "id": "QCOAMgEj-S3J"
      },
      "source": [
        "#TODO: Count the number of documents where movie run time is not null (3 point)"
      ],
      "execution_count": null,
      "outputs": []
    },
    {
      "cell_type": "markdown",
      "metadata": {
        "id": "nFOnWkY8VhNJ"
      },
      "source": [
        "#4. Query operators"
      ]
    },
    {
      "cell_type": "markdown",
      "metadata": {
        "id": "hry7UXKDKWAc"
      },
      "source": [
        "##4.1 Maximum and Minimum"
      ]
    },
    {
      "cell_type": "code",
      "metadata": {
        "id": "1ERuxgGrgWkL"
      },
      "source": [
        "#TODO:Using MongoDB operations (NOT PYTHON) find movie with the longest runtime using attribute \"Running Time min\" (4 point)\n",
        "#Hint: You will need to use sort function, pymongo.DESCENDING and use limit to restrict to the top result \n"
      ],
      "execution_count": null,
      "outputs": []
    },
    {
      "cell_type": "code",
      "metadata": {
        "id": "82EmOgoafF8l"
      },
      "source": [
        "#TODO:Using MongoDB operations (NOT PYTHON) find movie with the shortest runtime using attribute \"Running Time min\" (4 point)\n"
      ],
      "execution_count": null,
      "outputs": []
    },
    {
      "cell_type": "markdown",
      "metadata": {
        "id": "DoZyF60WH2eV"
      },
      "source": [
        "##4.2 Inclusion, exclusion operators  IN and  NIN"
      ]
    },
    {
      "cell_type": "code",
      "metadata": {
        "id": "5eooh_CVFsob"
      },
      "source": [
        "#TODO: Using the $in operator find print the count of movies directed by Steven Spielberg or Stanley Kubrick (3 point)\n"
      ],
      "execution_count": null,
      "outputs": []
    },
    {
      "cell_type": "markdown",
      "metadata": {
        "id": "uq66cGpU60EK"
      },
      "source": [
        "###4.3 Relational operators with numbers :  \"greater than\",  \"equal\", \"little than\""
      ]
    },
    {
      "cell_type": "code",
      "metadata": {
        "id": "-5PaqRjJ6ZjM"
      },
      "source": [
        "#TODO: Count movies where runtime is greater than 120 minutes (3 point)\n"
      ],
      "execution_count": null,
      "outputs": []
    },
    {
      "cell_type": "code",
      "metadata": {
        "id": "kjqjDOAf6vhA"
      },
      "source": [
        "#TODO: Count movies where runtime is less than 120 minutes (3 point)\n"
      ],
      "execution_count": null,
      "outputs": []
    },
    {
      "cell_type": "code",
      "metadata": {
        "id": "JoIWXeht7EJT"
      },
      "source": [
        "#TODO: Count movies where runtime is equal to 120 minutes (3 point)\n"
      ],
      "execution_count": null,
      "outputs": []
    },
    {
      "cell_type": "markdown",
      "metadata": {
        "id": "0DJ4BCpy8F-V"
      },
      "source": [
        "###4.4 Relational operators with letters :  \"greater than or equal\"  or  \"little than or equal\"\n",
        "\n",
        "Be careful, capital letters come before than lowercase letters in MongoDB"
      ]
    },
    {
      "cell_type": "code",
      "metadata": {
        "id": "vU6P6cNq8LEr"
      },
      "source": [
        "#TODO: Count movies where Director name starts with a letter between P and Z (P and Z are included). So names which start with P, Q, R, S, T.... \n",
        "\n",
        "collection.count_documents({\"name\": {\"$lt\" : \"B\" }})   # Names which start with A (2 point)"
      ],
      "execution_count": null,
      "outputs": []
    }
  ]
}
